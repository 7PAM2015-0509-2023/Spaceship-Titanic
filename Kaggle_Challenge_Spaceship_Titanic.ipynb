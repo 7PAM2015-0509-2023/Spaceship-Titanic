{
  "nbformat": 4,
  "nbformat_minor": 0,
  "metadata": {
    "colab": {
      "provenance": [],
      "authorship_tag": "ABX9TyNRZ2GhmtyQsh5L9WjFdk/o",
      "include_colab_link": true
    },
    "kernelspec": {
      "name": "python3",
      "display_name": "Python 3"
    },
    "language_info": {
      "name": "python"
    }
  },
  "cells": [
    {
      "cell_type": "markdown",
      "metadata": {
        "id": "view-in-github",
        "colab_type": "text"
      },
      "source": [
        "<a href=\"https://colab.research.google.com/github/7PAM2015-0509-2023/Spaceship-Titanic/blob/main/Kaggle_Challenge_Spaceship_Titanic.ipynb\" target=\"_parent\"><img src=\"https://colab.research.google.com/assets/colab-badge.svg\" alt=\"Open In Colab\"/></a>"
      ]
    },
    {
      "cell_type": "code",
      "execution_count": null,
      "metadata": {
        "id": "iCC_KMZwBJ8Q"
      },
      "outputs": [],
      "source": []
    },
    {
      "cell_type": "markdown",
      "source": [
        "Anzar Naseer"
      ],
      "metadata": {
        "id": "SkrIF_ISBeKL"
      }
    },
    {
      "cell_type": "code",
      "source": [
        "# Import Libraries and Load Data\n",
        "import pandas as pd\n",
        "import numpy as np\n",
        "import matplotlib.pyplot as plt\n",
        "import seaborn as sns\n",
        "from sklearn.preprocessing import LabelEncoder, StandardScaler\n",
        "from sklearn.model_selection import train_test_split, GridSearchCV\n",
        "from sklearn.ensemble import RandomForestClassifier, GradientBoostingClassifier\n",
        "from sklearn.decomposition import PCA\n",
        "from sklearn.metrics import accuracy_score, classification_report, confusion_matrix\n",
        "from sklearn.pipeline import Pipeline\n",
        "from sklearn.manifold import TSNE"
      ],
      "metadata": {
        "id": "a5zBozRTBZ2f"
      },
      "execution_count": null,
      "outputs": []
    },
    {
      "cell_type": "code",
      "source": [
        "# Load the dataset\n",
        "train_data = 'https://raw.githubusercontent.com/7PAM2015-0509-2023/Spaceship-Titanic/main/train.csv?token=GHSAT0AAAAAACUMVGDA5ZJG56COCUEV4ZPWZUFEJPQ'\n",
        "test_data = 'https://raw.githubusercontent.com/7PAM2015-0509-2023/Spaceship-Titanic/main/test.csv?token=GHSAT0AAAAAACUMVGDASW5CK4QG56WCKYWOZUFEI5A'\n",
        "train_df = pd.read_csv(train_data)\n",
        "test_df = pd.read_csv(test_data)"
      ],
      "metadata": {
        "id": "9QEtYe1bBkDc"
      },
      "execution_count": null,
      "outputs": []
    },
    {
      "cell_type": "code",
      "source": [],
      "metadata": {
        "id": "Ch5KrOiyDY78"
      },
      "execution_count": null,
      "outputs": []
    }
  ]
}